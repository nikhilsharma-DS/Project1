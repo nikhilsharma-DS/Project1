{
 "cells": [
  {
   "cell_type": "code",
   "execution_count": 3,
   "id": "3ffa81c9-c6f3-4d4a-8015-2540b82f2ff9",
   "metadata": {},
   "outputs": [],
   "source": [
    "# URL shortner (url = unifrom resource locator)"
   ]
  },
  {
   "cell_type": "code",
   "execution_count": 5,
   "id": "93704ba2-25ff-4894-887c-bcbadb7121a6",
   "metadata": {},
   "outputs": [],
   "source": [
    "# version 1"
   ]
  },
  {
   "cell_type": "code",
   "execution_count": 1,
   "id": "fda02ef3-7b62-4b49-8a6b-5424943a34f6",
   "metadata": {},
   "outputs": [],
   "source": [
    "import string\n",
    "import random"
   ]
  },
  {
   "cell_type": "code",
   "execution_count": 2,
   "id": "8ae89b4d-2935-4cd3-a73a-deb5c932f3fd",
   "metadata": {},
   "outputs": [],
   "source": [
    "DB = {}"
   ]
  },
  {
   "cell_type": "code",
   "execution_count": 7,
   "id": "2ad9a0de-744a-48da-a406-63fb06257908",
   "metadata": {},
   "outputs": [],
   "source": [
    "def getShortURL(longURL):\n",
    "    \"\"\"\n",
    "    It will accept longURL and would convert it into short URL\n",
    "    \"\"\"\n",
    "    leng = random.randint(4,6)\n",
    "    chars = string.ascii_lowercase\n",
    "    shortURL = \"\".join([random.choice(chars) for i in range(leng)])\n",
    "\n",
    "    if  shortURL in DB:\n",
    "        return getShortURL(longURL)\n",
    "    else:\n",
    "        DB[shortURL] =  longURL\n",
    "\n",
    "    result = \"cm.in/\" + shortURL\n",
    "    return result"
   ]
  },
  {
   "cell_type": "code",
   "execution_count": null,
   "id": "b7594599-0cd0-47c6-bf46-def9ea1d4570",
   "metadata": {},
   "outputs": [],
   "source": []
  },
  {
   "cell_type": "code",
   "execution_count": 51,
   "id": "72b5cbc9-f712-4113-8d78-985cd92c4299",
   "metadata": {},
   "outputs": [
    {
     "data": {
      "text/plain": [
       "'cm.in/u9sn4'"
      ]
     },
     "execution_count": 51,
     "metadata": {},
     "output_type": "execute_result"
    }
   ],
   "source": [
    "getShortURL(\"www.facebook.com\")"
   ]
  },
  {
   "cell_type": "code",
   "execution_count": 53,
   "id": "4a1fef32-8d1a-4cfa-9469-7597d5a5fc49",
   "metadata": {},
   "outputs": [
    {
     "data": {
      "text/plain": [
       "{'u9sn4': 'www.facebook.com'}"
      ]
     },
     "execution_count": 53,
     "metadata": {},
     "output_type": "execute_result"
    }
   ],
   "source": [
    "DB"
   ]
  },
  {
   "cell_type": "code",
   "execution_count": 55,
   "id": "2cdf0874-e27d-4a4a-99e7-4b85318e7657",
   "metadata": {},
   "outputs": [
    {
     "data": {
      "text/plain": [
       "'cm.in/8uho3'"
      ]
     },
     "execution_count": 55,
     "metadata": {},
     "output_type": "execute_result"
    }
   ],
   "source": [
    "getShortURL(\"www.indianrailway.com\")"
   ]
  },
  {
   "cell_type": "code",
   "execution_count": 57,
   "id": "2a5787b3-40cb-4188-b810-b920a6ea50fe",
   "metadata": {},
   "outputs": [
    {
     "data": {
      "text/plain": [
       "{'u9sn4': 'www.facebook.com', '8uho3': 'www.indianrailway.com'}"
      ]
     },
     "execution_count": 57,
     "metadata": {},
     "output_type": "execute_result"
    }
   ],
   "source": [
    "DB"
   ]
  },
  {
   "cell_type": "code",
   "execution_count": null,
   "id": "88be5a66-189f-462b-8545-8d37aeb819d0",
   "metadata": {},
   "outputs": [],
   "source": []
  },
  {
   "cell_type": "code",
   "execution_count": 19,
   "id": "d50b34bc-3516-480f-8061-635cdc0676d0",
   "metadata": {},
   "outputs": [],
   "source": [
    "# reverse function"
   ]
  },
  {
   "cell_type": "code",
   "execution_count": null,
   "id": "b572674a-0ee4-4b5e-b765-cadb03c9aa09",
   "metadata": {},
   "outputs": [],
   "source": []
  },
  {
   "cell_type": "code",
   "execution_count": 59,
   "id": "2d707850-0bd5-4780-8edc-7423809f0389",
   "metadata": {},
   "outputs": [],
   "source": [
    "def getLongURL(shortURL):\n",
    "    \"\"\"\n",
    "    IT will be accepting shortURL and provide LONGURL\n",
    "    \"\"\"\n",
    "    key = shortURL.split(\"/\")[-1]\n",
    "\n",
    "    if key in DB:\n",
    "        return DB[key]\n",
    "    else:\n",
    "        return \"ShortURL does'nt exist\""
   ]
  },
  {
   "cell_type": "code",
   "execution_count": 61,
   "id": "d631f951-9362-4295-b760-c6afee26bfe4",
   "metadata": {},
   "outputs": [
    {
     "data": {
      "text/plain": [
       "'www.facebook.com'"
      ]
     },
     "execution_count": 61,
     "metadata": {},
     "output_type": "execute_result"
    }
   ],
   "source": [
    "getLongURL('cm.in/u9sn4')"
   ]
  },
  {
   "cell_type": "code",
   "execution_count": 63,
   "id": "c52bd52d-0761-42ec-a0d3-1c4e5bd99968",
   "metadata": {},
   "outputs": [
    {
     "data": {
      "text/plain": [
       "'cm.in/vbgxs'"
      ]
     },
     "execution_count": 63,
     "metadata": {},
     "output_type": "execute_result"
    }
   ],
   "source": [
    "getShortURL(\"https://delhimetrorail.com/security-dmrc\")"
   ]
  },
  {
   "cell_type": "code",
   "execution_count": 65,
   "id": "22e64b95-10db-4c8b-ad01-03e2a0a4397e",
   "metadata": {},
   "outputs": [
    {
     "data": {
      "text/plain": [
       "{'u9sn4': 'www.facebook.com',\n",
       " '8uho3': 'www.indianrailway.com',\n",
       " 'vbgxs': 'https://delhimetrorail.com/security-dmrc'}"
      ]
     },
     "execution_count": 65,
     "metadata": {},
     "output_type": "execute_result"
    }
   ],
   "source": [
    "DB"
   ]
  },
  {
   "cell_type": "code",
   "execution_count": 67,
   "id": "85c2b0c6-8877-4c81-9409-2287ab1a1eb7",
   "metadata": {},
   "outputs": [
    {
     "data": {
      "text/plain": [
       "'https://delhimetrorail.com/security-dmrc'"
      ]
     },
     "execution_count": 67,
     "metadata": {},
     "output_type": "execute_result"
    }
   ],
   "source": [
    "getLongURL('cm.in/vbgxs')"
   ]
  },
  {
   "cell_type": "code",
   "execution_count": null,
   "id": "18700204-65ba-4926-8199-35a3d243b24f",
   "metadata": {},
   "outputs": [],
   "source": []
  },
  {
   "cell_type": "code",
   "execution_count": 33,
   "id": "e00524c0-02b0-4aa7-82ff-fa9471ced1f7",
   "metadata": {},
   "outputs": [],
   "source": [
    "# Version 2"
   ]
  },
  {
   "cell_type": "code",
   "execution_count": 69,
   "id": "3a5d0caf-1973-4ff2-97ae-d3e4b0410c2f",
   "metadata": {},
   "outputs": [],
   "source": [
    "DB = {}"
   ]
  },
  {
   "cell_type": "code",
   "execution_count": null,
   "id": "f5814d14-0ea8-416d-8b55-53f50dbded79",
   "metadata": {},
   "outputs": [],
   "source": []
  },
  {
   "cell_type": "code",
   "execution_count": 5,
   "id": "b0da4dc5-4c8c-4ee5-9973-29dfa390e4fb",
   "metadata": {},
   "outputs": [],
   "source": [
    "def getShortURL(longURL,myShortURL = None):\n",
    "    \"\"\"\n",
    "    It will accept longURL and would convert it into short URL\n",
    "    \"\"\"\n",
    "\n",
    "    if myShortURL:\n",
    "        if myShortURL in DB:\n",
    "            return \"ShortURL already Exist\"\n",
    "        else:\n",
    "            DB[myShortURL] = longURL\n",
    "            result = \"cm.in/\" + myShortURL\n",
    "            return result\n",
    "            \n",
    "\n",
    "    \n",
    "    leng = random.randint(4,6)\n",
    "    chars = string.ascii_lowercase + string.digits\n",
    "    shortURL = \"\".join([random.choice(chars) for i in range(leng)])\n",
    "\n",
    "    if  shortURL in DB:\n",
    "        return getShortURL(longURL)\n",
    "    else:\n",
    "        DB[shortURL] =  longURL\n",
    "\n",
    "    result = \"cm.in/\" + shortURL\n",
    "    return result"
   ]
  },
  {
   "cell_type": "code",
   "execution_count": 7,
   "id": "725b2730-1995-4a9e-8ae5-c435888e2d7f",
   "metadata": {},
   "outputs": [
    {
     "data": {
      "text/plain": [
       "{}"
      ]
     },
     "execution_count": 7,
     "metadata": {},
     "output_type": "execute_result"
    }
   ],
   "source": [
    "DB"
   ]
  },
  {
   "cell_type": "code",
   "execution_count": 9,
   "id": "759fbac8-5226-4e2e-9e05-e80017460e79",
   "metadata": {},
   "outputs": [
    {
     "data": {
      "text/plain": [
       "'cm.in/fz6z'"
      ]
     },
     "execution_count": 9,
     "metadata": {},
     "output_type": "execute_result"
    }
   ],
   "source": [
    "getShortURL(\"https://www.indianrail.gov.in/enquiry/StaticPages/StaticEnquiry.jsp?StaticPage=index.html\")"
   ]
  },
  {
   "cell_type": "code",
   "execution_count": 11,
   "id": "9d3e0437-cfb9-4f84-987c-92d97314a51a",
   "metadata": {},
   "outputs": [
    {
     "data": {
      "text/plain": [
       "{'fz6z': 'https://www.indianrail.gov.in/enquiry/StaticPages/StaticEnquiry.jsp?StaticPage=index.html'}"
      ]
     },
     "execution_count": 11,
     "metadata": {},
     "output_type": "execute_result"
    }
   ],
   "source": [
    "DB"
   ]
  },
  {
   "cell_type": "code",
   "execution_count": 13,
   "id": "d23c14b2-fe89-4b29-9abb-cc9fa802e966",
   "metadata": {},
   "outputs": [
    {
     "data": {
      "text/plain": [
       "'cm.in/face'"
      ]
     },
     "execution_count": 13,
     "metadata": {},
     "output_type": "execute_result"
    }
   ],
   "source": [
    "getShortURL(\"www.facebook.com\" , \"face\")"
   ]
  },
  {
   "cell_type": "code",
   "execution_count": 15,
   "id": "45851c85-bac8-425e-840b-a5b9dedd0235",
   "metadata": {},
   "outputs": [
    {
     "data": {
      "text/plain": [
       "{'fz6z': 'https://www.indianrail.gov.in/enquiry/StaticPages/StaticEnquiry.jsp?StaticPage=index.html',\n",
       " 'face': 'www.facebook.com'}"
      ]
     },
     "execution_count": 15,
     "metadata": {},
     "output_type": "execute_result"
    }
   ],
   "source": [
    "DB"
   ]
  },
  {
   "cell_type": "code",
   "execution_count": 17,
   "id": "aeca7565-aea5-4db8-8b40-1c1acb7915a8",
   "metadata": {},
   "outputs": [
    {
     "data": {
      "text/plain": [
       "'cm.in/rail'"
      ]
     },
     "execution_count": 17,
     "metadata": {},
     "output_type": "execute_result"
    }
   ],
   "source": [
    "getShortURL(\"https://delhimetrorail.com\" , \"rail\")"
   ]
  },
  {
   "cell_type": "code",
   "execution_count": 19,
   "id": "24313216-3984-4227-b718-0b7f35e4dea7",
   "metadata": {},
   "outputs": [
    {
     "data": {
      "text/plain": [
       "{'fz6z': 'https://www.indianrail.gov.in/enquiry/StaticPages/StaticEnquiry.jsp?StaticPage=index.html',\n",
       " 'face': 'www.facebook.com',\n",
       " 'rail': 'https://delhimetrorail.com'}"
      ]
     },
     "execution_count": 19,
     "metadata": {},
     "output_type": "execute_result"
    }
   ],
   "source": [
    "DB"
   ]
  },
  {
   "cell_type": "code",
   "execution_count": 21,
   "id": "b2fec00f-3346-4d91-b74f-aa480a45feac",
   "metadata": {},
   "outputs": [
    {
     "data": {
      "text/plain": [
       "'ShortURL already Exist'"
      ]
     },
     "execution_count": 21,
     "metadata": {},
     "output_type": "execute_result"
    }
   ],
   "source": [
    "getShortURL(\"www.punemetro.com\" , \"rail\")"
   ]
  },
  {
   "cell_type": "code",
   "execution_count": null,
   "id": "e5c76fa5-7f54-4835-9d65-148604a5fae9",
   "metadata": {},
   "outputs": [],
   "source": []
  },
  {
   "cell_type": "code",
   "execution_count": 24,
   "id": "85cf70ce-a1b1-4dbc-855b-2407fb8449e5",
   "metadata": {},
   "outputs": [],
   "source": [
    "def updateLongURL(shortURL , newLongURL):\n",
    "    \"\"\"it will be updating longURL with new one\"\"\"\n",
    "    if shortURL in DB:\n",
    "        shortURL = shortURL.split(\"/\")[-1]\n",
    "        DB[shortURL] = newLongURL\n",
    "        res = \"cm.in/\" + shortURL\n",
    "        return res\n",
    "    else:\n",
    "        return \"shortURL doesn't exist\""
   ]
  },
  {
   "cell_type": "code",
   "execution_count": 26,
   "id": "79359e3c-dc2f-4dd6-8d97-c98051fcf908",
   "metadata": {},
   "outputs": [
    {
     "data": {
      "text/plain": [
       "{'fz6z': 'https://www.indianrail.gov.in/enquiry/StaticPages/StaticEnquiry.jsp?StaticPage=index.html',\n",
       " 'face': 'www.facebook.com',\n",
       " 'rail': 'https://delhimetrorail.com'}"
      ]
     },
     "execution_count": 26,
     "metadata": {},
     "output_type": "execute_result"
    }
   ],
   "source": [
    "DB"
   ]
  },
  {
   "cell_type": "code",
   "execution_count": 28,
   "id": "07bac8ab-474e-4036-b37f-b8e8a2c4c60c",
   "metadata": {},
   "outputs": [
    {
     "data": {
      "text/plain": [
       "'cm.in/rail'"
      ]
     },
     "execution_count": 28,
     "metadata": {},
     "output_type": "execute_result"
    }
   ],
   "source": [
    "updateLongURL(\"rail\" , \"www.punemetro.com\")"
   ]
  },
  {
   "cell_type": "code",
   "execution_count": 30,
   "id": "7790ff63-eefe-4d88-89ce-79c38bf16d7e",
   "metadata": {},
   "outputs": [
    {
     "data": {
      "text/plain": [
       "{'fz6z': 'https://www.indianrail.gov.in/enquiry/StaticPages/StaticEnquiry.jsp?StaticPage=index.html',\n",
       " 'face': 'www.facebook.com',\n",
       " 'rail': 'www.punemetro.com'}"
      ]
     },
     "execution_count": 30,
     "metadata": {},
     "output_type": "execute_result"
    }
   ],
   "source": [
    "DB"
   ]
  },
  {
   "cell_type": "code",
   "execution_count": null,
   "id": "14d53c10-6114-4259-9320-719e494cd831",
   "metadata": {},
   "outputs": [],
   "source": []
  }
 ],
 "metadata": {
  "kernelspec": {
   "display_name": "Python [conda env:base] *",
   "language": "python",
   "name": "conda-base-py"
  },
  "language_info": {
   "codemirror_mode": {
    "name": "ipython",
    "version": 3
   },
   "file_extension": ".py",
   "mimetype": "text/x-python",
   "name": "python",
   "nbconvert_exporter": "python",
   "pygments_lexer": "ipython3",
   "version": "3.12.7"
  }
 },
 "nbformat": 4,
 "nbformat_minor": 5
}
